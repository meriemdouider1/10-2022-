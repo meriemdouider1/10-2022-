{
  "nbformat": 4,
  "nbformat_minor": 0,
  "metadata": {
    "colab": {
      "provenance": [],
      "authorship_tag": "ABX9TyPkqfjtd1K2+G8po4t+DgCp",
      "include_colab_link": true
    },
    "kernelspec": {
      "name": "python3",
      "display_name": "Python 3"
    },
    "language_info": {
      "name": "python"
    }
  },
  "cells": [
    {
      "cell_type": "markdown",
      "metadata": {
        "id": "view-in-github",
        "colab_type": "text"
      },
      "source": [
        "<a href=\"https://colab.research.google.com/github/meriemdouider1/10-2022--12-2022/blob/main/16_janv.ipynb\" target=\"_parent\"><img src=\"https://colab.research.google.com/assets/colab-badge.svg\" alt=\"Open In Colab\"/></a>"
      ]
    },
    {
      "cell_type": "code",
      "execution_count": 1,
      "metadata": {
        "id": "Ba0Ulyu5ycf2"
      },
      "outputs": [],
      "source": [
        "import sklearn\n",
        "import pandas as pd\n",
        "import numpy as np\n",
        "import matplotlib.pyplot as plt\n",
        "import seaborn as sns\n",
        "from sklearn.model_selection import train_test_split\n",
        "from sklearn.ensemble import RandomForestRegressor, RandomForestClassifier\n",
        "from sklearn.metrics import roc_auc_score, r2_score\n",
        "import sklearn\n",
        "import pandas as pd\n",
        "import numpy as np\n",
        "import matplotlib.pyplot as plt\n",
        "import seaborn as sns\n",
        "from sklearn.naive_bayes import GaussianNB\n",
        "from sklearn.ensemble import BaggingClassifier\n",
        "from sklearn.tree import DecisionTreeClassifier\n",
        "from xgboost import XGBClassifier\n",
        "from sklearn.metrics import accuracy_score\n",
        "from sklearn.metrics import precision_score\n",
        "from sklearn.metrics import recall_score\n",
        "from sklearn.metrics import f1_score\n",
        "from sklearn.metrics import confusion_matrix\n",
        "import numpy\n",
        "import sklearn.metrics as metrics\n",
        "from sklearn.ensemble import RandomForestClassifier\n",
        "from sklearn.neighbors import KNeighborsClassifier\n",
        "from sklearn import svm\n",
        "from sklearn.model_selection import StratifiedKFold\n",
        "from sklearn.model_selection import cross_val_score\n",
        "from sklearn.model_selection import LeaveOneOut\n",
        "from numpy import mean\n",
        "from numpy import std\n",
        "from sklearn.datasets import make_classification\n",
        "from sklearn.model_selection import KFold\n",
        "from sklearn.model_selection import cross_val_score\n",
        "from sklearn.linear_model import LogisticRegression\n",
        "from sklearn.metrics import make_scorer\n",
        "import matplotlib.pyplot as plt\n",
        "from sklearn.model_selection import LeaveOneOut\n",
        "from sklearn.datasets import make_classification\n",
        "from sklearn.ensemble import RandomForestClassifier\n",
        "from sklearn import datasets, metrics, model_selection, svm\n",
        "import numpy as np\n",
        "from sklearn import svm, datasets\n",
        "from sklearn.metrics import auc\n",
        "from sklearn.metrics import plot_roc_curve\n",
        "from sklearn.model_selection import StratifiedKFold\n",
        "from sklearn.datasets import make_classification\n",
        "from sklearn.ensemble import RandomForestClassifier\n",
        "from sklearn import datasets, metrics, model_selection, svm\n",
        "from sklearn.metrics import matthews_corrcoef\n",
        "from sklearn.svm import SVC\n",
        "from sklearn.metrics import cohen_kappa_score\n",
        "from sklearn.ensemble import GradientBoostingClassifier\n",
        "from sklearn.feature_selection import RFE\n",
        "from sklearn.pipeline import Pipeline\n",
        "from matplotlib import pyplot"
      ]
    },
    {
      "cell_type": "code",
      "execution_count": 2,
      "metadata": {
        "id": "eZpW8fsXFrh3"
      },
      "outputs": [],
      "source": [
        "Cl1 = '/content/cs-longia.xlsx' \n",
        "data=pd.read_excel(Cl1, sheet_name=0,header=0,index_col=False, keep_default_na=True)"
      ]
    },
    {
      "cell_type": "code",
      "execution_count": 3,
      "metadata": {
        "colab": {
          "base_uri": "https://localhost:8080/",
          "height": 487
        },
        "id": "_GMyLG-Fqr7k",
        "outputId": "fcf87a35-d2a3-4986-fd90-470e5a845e13"
      },
      "outputs": [
        {
          "output_type": "execute_result",
          "data": {
            "text/plain": [
              "     Cs_longia     X_long      Y_lat    Bovins    Volaille   Caprins  \\\n",
              "0            1 -15.911420  23.794740  0.000000    0.000000  0.000000   \n",
              "1            1 -13.188370  27.132950  0.000214    0.000000  0.063449   \n",
              "2            1 -13.188370  27.132950  0.000214    0.000000  0.063449   \n",
              "3            0 -13.185620  27.157940  0.000000    0.000000  0.000000   \n",
              "4            0 -13.167180  27.157730  0.000000    0.000000  0.000000   \n",
              "..         ...        ...        ...       ...         ...       ...   \n",
              "249          1  -5.366667  35.766667  8.495770  105.550156  8.691405   \n",
              "250          1  -5.816667  35.783333  0.000000    0.000000  0.000000   \n",
              "251          1  -5.366667  35.833333  7.411978  111.459663  7.364459   \n",
              "252          1  -5.558611  35.841944  5.696193    5.641273  0.602672   \n",
              "253          1  -5.483333  35.900000  6.839514   15.082421  0.782080   \n",
              "\n",
              "         Ovins   Equides  Coniferes  ZoneAride  ...  Vent_Mars  Vent_Avril  \\\n",
              "0     0.000000  0.624435          0         97  ...        6.1         6.9   \n",
              "1     0.034352  0.040295          0        100  ...        4.8         5.6   \n",
              "2     0.034352  0.040295          0        100  ...        4.8         5.6   \n",
              "3     0.000000  0.269410          0        100  ...        5.1         5.6   \n",
              "4     0.000000  0.379107          0        100  ...        5.0         5.2   \n",
              "..         ...       ...        ...        ...  ...        ...         ...   \n",
              "249  15.116930  0.698221          0          0  ...        4.6         4.3   \n",
              "250   0.000000  1.725019          0          0  ...        4.6         4.1   \n",
              "251  15.054404  0.991284          0          0  ...        4.5         4.3   \n",
              "252   4.306276  0.000000          0          0  ...        4.6         4.0   \n",
              "253   6.042903  0.595441          0          0  ...        4.7         4.4   \n",
              "\n",
              "     Vent_Mai  Vent_Juin  Vent_Juill  Vent_Aout  Vent_Sept  Vent_Oct  \\\n",
              "0         7.2        7.1         7.5        7.2        6.3       5.4   \n",
              "1         5.7        6.4         5.9        5.9        5.7       4.3   \n",
              "2         5.7        6.4         5.9        5.9        5.7       4.3   \n",
              "3         5.5        6.2         6.2        6.2        5.7       4.1   \n",
              "4         5.4        5.7         6.2        5.8        5.6       4.2   \n",
              "..        ...        ...         ...        ...        ...       ...   \n",
              "249       4.1        3.9         3.9        4.1        4.0       4.0   \n",
              "250       3.8        3.7         3.7        3.7        3.3       3.6   \n",
              "251       4.0        4.0         3.9        4.0        3.9       4.0   \n",
              "252       3.8        4.1         3.7        3.4        3.6       3.6   \n",
              "253       3.9        3.8         3.9        3.7        4.0       4.0   \n",
              "\n",
              "     Vent_Nov  Vent_Dec  \n",
              "0         5.5       4.9  \n",
              "1         3.7       3.8  \n",
              "2         3.7       3.8  \n",
              "3         3.7       3.9  \n",
              "4         3.6       3.8  \n",
              "..        ...       ...  \n",
              "249       4.0       4.2  \n",
              "250       3.8       4.0  \n",
              "251       3.9       4.3  \n",
              "252       3.4       3.6  \n",
              "253       4.0       4.2  \n",
              "\n",
              "[254 rows x 226 columns]"
            ],
            "text/html": [
              "\n",
              "  <div id=\"df-0a06da7a-ce41-4110-8990-095de9a8ef60\">\n",
              "    <div class=\"colab-df-container\">\n",
              "      <div>\n",
              "<style scoped>\n",
              "    .dataframe tbody tr th:only-of-type {\n",
              "        vertical-align: middle;\n",
              "    }\n",
              "\n",
              "    .dataframe tbody tr th {\n",
              "        vertical-align: top;\n",
              "    }\n",
              "\n",
              "    .dataframe thead th {\n",
              "        text-align: right;\n",
              "    }\n",
              "</style>\n",
              "<table border=\"1\" class=\"dataframe\">\n",
              "  <thead>\n",
              "    <tr style=\"text-align: right;\">\n",
              "      <th></th>\n",
              "      <th>Cs_longia</th>\n",
              "      <th>X_long</th>\n",
              "      <th>Y_lat</th>\n",
              "      <th>Bovins</th>\n",
              "      <th>Volaille</th>\n",
              "      <th>Caprins</th>\n",
              "      <th>Ovins</th>\n",
              "      <th>Equides</th>\n",
              "      <th>Coniferes</th>\n",
              "      <th>ZoneAride</th>\n",
              "      <th>...</th>\n",
              "      <th>Vent_Mars</th>\n",
              "      <th>Vent_Avril</th>\n",
              "      <th>Vent_Mai</th>\n",
              "      <th>Vent_Juin</th>\n",
              "      <th>Vent_Juill</th>\n",
              "      <th>Vent_Aout</th>\n",
              "      <th>Vent_Sept</th>\n",
              "      <th>Vent_Oct</th>\n",
              "      <th>Vent_Nov</th>\n",
              "      <th>Vent_Dec</th>\n",
              "    </tr>\n",
              "  </thead>\n",
              "  <tbody>\n",
              "    <tr>\n",
              "      <th>0</th>\n",
              "      <td>1</td>\n",
              "      <td>-15.911420</td>\n",
              "      <td>23.794740</td>\n",
              "      <td>0.000000</td>\n",
              "      <td>0.000000</td>\n",
              "      <td>0.000000</td>\n",
              "      <td>0.000000</td>\n",
              "      <td>0.624435</td>\n",
              "      <td>0</td>\n",
              "      <td>97</td>\n",
              "      <td>...</td>\n",
              "      <td>6.1</td>\n",
              "      <td>6.9</td>\n",
              "      <td>7.2</td>\n",
              "      <td>7.1</td>\n",
              "      <td>7.5</td>\n",
              "      <td>7.2</td>\n",
              "      <td>6.3</td>\n",
              "      <td>5.4</td>\n",
              "      <td>5.5</td>\n",
              "      <td>4.9</td>\n",
              "    </tr>\n",
              "    <tr>\n",
              "      <th>1</th>\n",
              "      <td>1</td>\n",
              "      <td>-13.188370</td>\n",
              "      <td>27.132950</td>\n",
              "      <td>0.000214</td>\n",
              "      <td>0.000000</td>\n",
              "      <td>0.063449</td>\n",
              "      <td>0.034352</td>\n",
              "      <td>0.040295</td>\n",
              "      <td>0</td>\n",
              "      <td>100</td>\n",
              "      <td>...</td>\n",
              "      <td>4.8</td>\n",
              "      <td>5.6</td>\n",
              "      <td>5.7</td>\n",
              "      <td>6.4</td>\n",
              "      <td>5.9</td>\n",
              "      <td>5.9</td>\n",
              "      <td>5.7</td>\n",
              "      <td>4.3</td>\n",
              "      <td>3.7</td>\n",
              "      <td>3.8</td>\n",
              "    </tr>\n",
              "    <tr>\n",
              "      <th>2</th>\n",
              "      <td>1</td>\n",
              "      <td>-13.188370</td>\n",
              "      <td>27.132950</td>\n",
              "      <td>0.000214</td>\n",
              "      <td>0.000000</td>\n",
              "      <td>0.063449</td>\n",
              "      <td>0.034352</td>\n",
              "      <td>0.040295</td>\n",
              "      <td>0</td>\n",
              "      <td>100</td>\n",
              "      <td>...</td>\n",
              "      <td>4.8</td>\n",
              "      <td>5.6</td>\n",
              "      <td>5.7</td>\n",
              "      <td>6.4</td>\n",
              "      <td>5.9</td>\n",
              "      <td>5.9</td>\n",
              "      <td>5.7</td>\n",
              "      <td>4.3</td>\n",
              "      <td>3.7</td>\n",
              "      <td>3.8</td>\n",
              "    </tr>\n",
              "    <tr>\n",
              "      <th>3</th>\n",
              "      <td>0</td>\n",
              "      <td>-13.185620</td>\n",
              "      <td>27.157940</td>\n",
              "      <td>0.000000</td>\n",
              "      <td>0.000000</td>\n",
              "      <td>0.000000</td>\n",
              "      <td>0.000000</td>\n",
              "      <td>0.269410</td>\n",
              "      <td>0</td>\n",
              "      <td>100</td>\n",
              "      <td>...</td>\n",
              "      <td>5.1</td>\n",
              "      <td>5.6</td>\n",
              "      <td>5.5</td>\n",
              "      <td>6.2</td>\n",
              "      <td>6.2</td>\n",
              "      <td>6.2</td>\n",
              "      <td>5.7</td>\n",
              "      <td>4.1</td>\n",
              "      <td>3.7</td>\n",
              "      <td>3.9</td>\n",
              "    </tr>\n",
              "    <tr>\n",
              "      <th>4</th>\n",
              "      <td>0</td>\n",
              "      <td>-13.167180</td>\n",
              "      <td>27.157730</td>\n",
              "      <td>0.000000</td>\n",
              "      <td>0.000000</td>\n",
              "      <td>0.000000</td>\n",
              "      <td>0.000000</td>\n",
              "      <td>0.379107</td>\n",
              "      <td>0</td>\n",
              "      <td>100</td>\n",
              "      <td>...</td>\n",
              "      <td>5.0</td>\n",
              "      <td>5.2</td>\n",
              "      <td>5.4</td>\n",
              "      <td>5.7</td>\n",
              "      <td>6.2</td>\n",
              "      <td>5.8</td>\n",
              "      <td>5.6</td>\n",
              "      <td>4.2</td>\n",
              "      <td>3.6</td>\n",
              "      <td>3.8</td>\n",
              "    </tr>\n",
              "    <tr>\n",
              "      <th>...</th>\n",
              "      <td>...</td>\n",
              "      <td>...</td>\n",
              "      <td>...</td>\n",
              "      <td>...</td>\n",
              "      <td>...</td>\n",
              "      <td>...</td>\n",
              "      <td>...</td>\n",
              "      <td>...</td>\n",
              "      <td>...</td>\n",
              "      <td>...</td>\n",
              "      <td>...</td>\n",
              "      <td>...</td>\n",
              "      <td>...</td>\n",
              "      <td>...</td>\n",
              "      <td>...</td>\n",
              "      <td>...</td>\n",
              "      <td>...</td>\n",
              "      <td>...</td>\n",
              "      <td>...</td>\n",
              "      <td>...</td>\n",
              "      <td>...</td>\n",
              "    </tr>\n",
              "    <tr>\n",
              "      <th>249</th>\n",
              "      <td>1</td>\n",
              "      <td>-5.366667</td>\n",
              "      <td>35.766667</td>\n",
              "      <td>8.495770</td>\n",
              "      <td>105.550156</td>\n",
              "      <td>8.691405</td>\n",
              "      <td>15.116930</td>\n",
              "      <td>0.698221</td>\n",
              "      <td>0</td>\n",
              "      <td>0</td>\n",
              "      <td>...</td>\n",
              "      <td>4.6</td>\n",
              "      <td>4.3</td>\n",
              "      <td>4.1</td>\n",
              "      <td>3.9</td>\n",
              "      <td>3.9</td>\n",
              "      <td>4.1</td>\n",
              "      <td>4.0</td>\n",
              "      <td>4.0</td>\n",
              "      <td>4.0</td>\n",
              "      <td>4.2</td>\n",
              "    </tr>\n",
              "    <tr>\n",
              "      <th>250</th>\n",
              "      <td>1</td>\n",
              "      <td>-5.816667</td>\n",
              "      <td>35.783333</td>\n",
              "      <td>0.000000</td>\n",
              "      <td>0.000000</td>\n",
              "      <td>0.000000</td>\n",
              "      <td>0.000000</td>\n",
              "      <td>1.725019</td>\n",
              "      <td>0</td>\n",
              "      <td>0</td>\n",
              "      <td>...</td>\n",
              "      <td>4.6</td>\n",
              "      <td>4.1</td>\n",
              "      <td>3.8</td>\n",
              "      <td>3.7</td>\n",
              "      <td>3.7</td>\n",
              "      <td>3.7</td>\n",
              "      <td>3.3</td>\n",
              "      <td>3.6</td>\n",
              "      <td>3.8</td>\n",
              "      <td>4.0</td>\n",
              "    </tr>\n",
              "    <tr>\n",
              "      <th>251</th>\n",
              "      <td>1</td>\n",
              "      <td>-5.366667</td>\n",
              "      <td>35.833333</td>\n",
              "      <td>7.411978</td>\n",
              "      <td>111.459663</td>\n",
              "      <td>7.364459</td>\n",
              "      <td>15.054404</td>\n",
              "      <td>0.991284</td>\n",
              "      <td>0</td>\n",
              "      <td>0</td>\n",
              "      <td>...</td>\n",
              "      <td>4.5</td>\n",
              "      <td>4.3</td>\n",
              "      <td>4.0</td>\n",
              "      <td>4.0</td>\n",
              "      <td>3.9</td>\n",
              "      <td>4.0</td>\n",
              "      <td>3.9</td>\n",
              "      <td>4.0</td>\n",
              "      <td>3.9</td>\n",
              "      <td>4.3</td>\n",
              "    </tr>\n",
              "    <tr>\n",
              "      <th>252</th>\n",
              "      <td>1</td>\n",
              "      <td>-5.558611</td>\n",
              "      <td>35.841944</td>\n",
              "      <td>5.696193</td>\n",
              "      <td>5.641273</td>\n",
              "      <td>0.602672</td>\n",
              "      <td>4.306276</td>\n",
              "      <td>0.000000</td>\n",
              "      <td>0</td>\n",
              "      <td>0</td>\n",
              "      <td>...</td>\n",
              "      <td>4.6</td>\n",
              "      <td>4.0</td>\n",
              "      <td>3.8</td>\n",
              "      <td>4.1</td>\n",
              "      <td>3.7</td>\n",
              "      <td>3.4</td>\n",
              "      <td>3.6</td>\n",
              "      <td>3.6</td>\n",
              "      <td>3.4</td>\n",
              "      <td>3.6</td>\n",
              "    </tr>\n",
              "    <tr>\n",
              "      <th>253</th>\n",
              "      <td>1</td>\n",
              "      <td>-5.483333</td>\n",
              "      <td>35.900000</td>\n",
              "      <td>6.839514</td>\n",
              "      <td>15.082421</td>\n",
              "      <td>0.782080</td>\n",
              "      <td>6.042903</td>\n",
              "      <td>0.595441</td>\n",
              "      <td>0</td>\n",
              "      <td>0</td>\n",
              "      <td>...</td>\n",
              "      <td>4.7</td>\n",
              "      <td>4.4</td>\n",
              "      <td>3.9</td>\n",
              "      <td>3.8</td>\n",
              "      <td>3.9</td>\n",
              "      <td>3.7</td>\n",
              "      <td>4.0</td>\n",
              "      <td>4.0</td>\n",
              "      <td>4.0</td>\n",
              "      <td>4.2</td>\n",
              "    </tr>\n",
              "  </tbody>\n",
              "</table>\n",
              "<p>254 rows × 226 columns</p>\n",
              "</div>\n",
              "      <button class=\"colab-df-convert\" onclick=\"convertToInteractive('df-0a06da7a-ce41-4110-8990-095de9a8ef60')\"\n",
              "              title=\"Convert this dataframe to an interactive table.\"\n",
              "              style=\"display:none;\">\n",
              "        \n",
              "  <svg xmlns=\"http://www.w3.org/2000/svg\" height=\"24px\"viewBox=\"0 0 24 24\"\n",
              "       width=\"24px\">\n",
              "    <path d=\"M0 0h24v24H0V0z\" fill=\"none\"/>\n",
              "    <path d=\"M18.56 5.44l.94 2.06.94-2.06 2.06-.94-2.06-.94-.94-2.06-.94 2.06-2.06.94zm-11 1L8.5 8.5l.94-2.06 2.06-.94-2.06-.94L8.5 2.5l-.94 2.06-2.06.94zm10 10l.94 2.06.94-2.06 2.06-.94-2.06-.94-.94-2.06-.94 2.06-2.06.94z\"/><path d=\"M17.41 7.96l-1.37-1.37c-.4-.4-.92-.59-1.43-.59-.52 0-1.04.2-1.43.59L10.3 9.45l-7.72 7.72c-.78.78-.78 2.05 0 2.83L4 21.41c.39.39.9.59 1.41.59.51 0 1.02-.2 1.41-.59l7.78-7.78 2.81-2.81c.8-.78.8-2.07 0-2.86zM5.41 20L4 18.59l7.72-7.72 1.47 1.35L5.41 20z\"/>\n",
              "  </svg>\n",
              "      </button>\n",
              "      \n",
              "  <style>\n",
              "    .colab-df-container {\n",
              "      display:flex;\n",
              "      flex-wrap:wrap;\n",
              "      gap: 12px;\n",
              "    }\n",
              "\n",
              "    .colab-df-convert {\n",
              "      background-color: #E8F0FE;\n",
              "      border: none;\n",
              "      border-radius: 50%;\n",
              "      cursor: pointer;\n",
              "      display: none;\n",
              "      fill: #1967D2;\n",
              "      height: 32px;\n",
              "      padding: 0 0 0 0;\n",
              "      width: 32px;\n",
              "    }\n",
              "\n",
              "    .colab-df-convert:hover {\n",
              "      background-color: #E2EBFA;\n",
              "      box-shadow: 0px 1px 2px rgba(60, 64, 67, 0.3), 0px 1px 3px 1px rgba(60, 64, 67, 0.15);\n",
              "      fill: #174EA6;\n",
              "    }\n",
              "\n",
              "    [theme=dark] .colab-df-convert {\n",
              "      background-color: #3B4455;\n",
              "      fill: #D2E3FC;\n",
              "    }\n",
              "\n",
              "    [theme=dark] .colab-df-convert:hover {\n",
              "      background-color: #434B5C;\n",
              "      box-shadow: 0px 1px 3px 1px rgba(0, 0, 0, 0.15);\n",
              "      filter: drop-shadow(0px 1px 2px rgba(0, 0, 0, 0.3));\n",
              "      fill: #FFFFFF;\n",
              "    }\n",
              "  </style>\n",
              "\n",
              "      <script>\n",
              "        const buttonEl =\n",
              "          document.querySelector('#df-0a06da7a-ce41-4110-8990-095de9a8ef60 button.colab-df-convert');\n",
              "        buttonEl.style.display =\n",
              "          google.colab.kernel.accessAllowed ? 'block' : 'none';\n",
              "\n",
              "        async function convertToInteractive(key) {\n",
              "          const element = document.querySelector('#df-0a06da7a-ce41-4110-8990-095de9a8ef60');\n",
              "          const dataTable =\n",
              "            await google.colab.kernel.invokeFunction('convertToInteractive',\n",
              "                                                     [key], {});\n",
              "          if (!dataTable) return;\n",
              "\n",
              "          const docLinkHtml = 'Like what you see? Visit the ' +\n",
              "            '<a target=\"_blank\" href=https://colab.research.google.com/notebooks/data_table.ipynb>data table notebook</a>'\n",
              "            + ' to learn more about interactive tables.';\n",
              "          element.innerHTML = '';\n",
              "          dataTable['output_type'] = 'display_data';\n",
              "          await google.colab.output.renderOutput(dataTable, element);\n",
              "          const docLink = document.createElement('div');\n",
              "          docLink.innerHTML = docLinkHtml;\n",
              "          element.appendChild(docLink);\n",
              "        }\n",
              "      </script>\n",
              "    </div>\n",
              "  </div>\n",
              "  "
            ]
          },
          "metadata": {},
          "execution_count": 3
        }
      ],
      "source": [
        "data"
      ]
    },
    {
      "cell_type": "code",
      "execution_count": 4,
      "metadata": {
        "colab": {
          "base_uri": "https://localhost:8080/"
        },
        "id": "dwvIdiHDHxV2",
        "outputId": "4df8be4b-8424-46a9-b501-a3ca621e52f6"
      },
      "outputs": [
        {
          "output_type": "execute_result",
          "data": {
            "text/plain": [
              "0      1\n",
              "1      1\n",
              "2      1\n",
              "3      0\n",
              "4      0\n",
              "      ..\n",
              "249    1\n",
              "250    1\n",
              "251    1\n",
              "252    1\n",
              "253    1\n",
              "Name: Cs_longia, Length: 254, dtype: int64"
            ]
          },
          "metadata": {},
          "execution_count": 4
        }
      ],
      "source": [
        "data[\"Cs_longia\"]"
      ]
    },
    {
      "cell_type": "code",
      "execution_count": 5,
      "metadata": {
        "id": "WlXmEfpym-Hm"
      },
      "outputs": [],
      "source": [
        "X = data.loc[:, data.columns != 'Cs_longia']\n",
        "y = data.Cs_longia"
      ]
    },
    {
      "cell_type": "code",
      "execution_count": 6,
      "metadata": {
        "id": "TK8hbUKA-fik"
      },
      "outputs": [],
      "source": [
        "def specificite(y_true, y_pred):\n",
        "  specificite= confusion_matrix(y_true, y_pred)[0,0]/(confusion_matrix(y_true,y_pred)[0,0] + confusion_matrix(y_true, y_pred)[0,1])\n",
        "  return specificite\n",
        "my_scorer = make_scorer(specificite, greater_is_better=True)\n",
        "def MCC(y_true, y_pred):\n",
        "  MCC= matthews_corrcoef(y_true, y_pred)\n",
        "  return MCC\n",
        "my_scorer1 = make_scorer(MCC, greater_is_better=True)\n",
        "def présicion_positive(y_val, preds):\n",
        "  cf_matrix = confusion_matrix(y_val, preds)\n",
        "  pre_pos =  (cf_matrix[1,1])/(cf_matrix[1,1]+cf_matrix[0,1])\n",
        "  return pre_pos\n",
        "my_scorer2 = make_scorer(présicion_positive, greater_is_better=True)\n",
        "def présicion_négative(y_val, preds):\n",
        "  cf_matrix = confusion_matrix(y_val, preds)\n",
        "  pre_pos =  (cf_matrix[0,0])/(cf_matrix[0,0]+cf_matrix[1,0])\n",
        "  return pre_pos\n",
        "my_scorer3 = make_scorer(présicion_négative, greater_is_better=True)\n",
        "def VN(y_true, y_pred):\n",
        "    value = confusion_matrix(y_true, y_pred)[0,0]\n",
        "    return value\n",
        "my_scorer4 = make_scorer(VN, greater_is_better=True)\n",
        "def VP(y_true, y_pred):\n",
        "    value = confusion_matrix(y_true, y_pred)[1,1]\n",
        "    return value\n",
        "my_scorer5 = make_scorer(VP, greater_is_better=True)\n",
        "def FP(y_true, y_pred):\n",
        "    value = confusion_matrix(y_true, y_pred)[0,1]\n",
        "    return value\n",
        "my_scorer6 = make_scorer(FP, greater_is_better=True)\n",
        "def FN(y_true, y_pred):\n",
        "    value = confusion_matrix(y_true, y_pred)[1,0]\n",
        "    return value\n",
        "my_scorer7 = make_scorer(FN, greater_is_better=True)\n",
        "\n",
        "\n"
      ]
    },
    {
      "cell_type": "code",
      "execution_count": 7,
      "metadata": {
        "id": "PkaDJSqey_Tl"
      },
      "outputs": [],
      "source": [
        "from sklearn.ensemble import BaggingClassifier"
      ]
    },
    {
      "cell_type": "code",
      "source": [
        "lst1=['X_long', 'Bovins', 'Ovins', 'Coniferes', 'ZoneAride', 'ZonePel',\n",
        "       'Lesfeuillus', 'Autres', 'Arbrisseau', 'Pl_herb', 'VegCul', 'Amp3_IRM',\n",
        "       'VarT_tri_IRM', 'VarT_Cy_IRM', 'Min_IRM', 'Ph1_IRM', 'Ph3_IRM',\n",
        "       'Amp2_TempJ', 'VarT_ann_TempJ', 'VarT_tri_NDVI', 'Max_EVI', 'Ret_eau',\n",
        "       'Geom_maj', 'Pente_Moy', 'IR_sd', 'Prec_Aout', 'Tmax_Janv', 'Tmax_Mai']\n",
        "lst2=['X_long', 'Bovins', 'Ovins', 'Coniferes', 'ZoneAride', 'ZonePel',\n",
        "       'Lesfeuillus', 'Autres', 'Arbrisseau', 'Pl_herb', 'VegCul', 'Amp3_IRM',\n",
        "       'VarT_tri_IRM', 'VarT_Cy_IRM', 'Min_IRM', 'Ph1_IRM', 'Ph3_IRM',\n",
        "       'VarT_ann_TempJ', 'VarT_tri_NDVI', 'Max_EVI', 'Ret_eau',\n",
        "       'Rugosite_Moyenne', 'Pente_Moy', 'IR_sd', 'Prec_Aout', 'Tmax_Janv',\n",
        "       'Tmax_Mai']"
      ],
      "metadata": {
        "id": "A0KfkhFU5sZx"
      },
      "execution_count": 8,
      "outputs": []
    },
    {
      "cell_type": "code",
      "source": [
        "cv = KFold(n_splits=5, random_state=1, shuffle=True)\n",
        "classifiers = {\n",
        "\"Random_subspace\": BaggingClassifier(bootstrap=False,random_state=0)\n",
        "}\n",
        "for name, clf in classifiers.items():\n",
        "    print(name)\n",
        "    # evaluate model\n",
        "    scores1 = cross_val_score(clf,  X[lst2], y, scoring='accuracy', cv=cv, n_jobs=-1)\n",
        "    scores2 = cross_val_score(clf,  X[lst2], y, scoring='recall', cv=cv, n_jobs=-1)\n",
        "    scores3 = cross_val_score(clf, X[lst2], y, scoring=my_scorer, cv=cv, n_jobs=-1)\n",
        "    scores4 = cross_val_score(clf, X[lst2], y, scoring=my_scorer1, cv=cv, n_jobs=-1)\n",
        "    scores5 = cross_val_score(clf, X[lst2], y, scoring=my_scorer2, cv=cv, n_jobs=-1)\n",
        "    scores6 = cross_val_score(clf, X[lst2], y, scoring=my_scorer3, cv=cv, n_jobs=-1)\n",
        "    scores7 = cross_val_score(clf,  X[lst2], y, scoring='roc_auc', cv=cv, n_jobs=-1)\n",
        "    scores8 = cross_val_score(clf,  X[lst2], y, scoring=my_scorer4, cv=cv, n_jobs=-1)\n",
        "    scores9 = cross_val_score(clf,  X[lst2], y, scoring=my_scorer5, cv=cv, n_jobs=-1)\n",
        "    scores10 = cross_val_score(clf,  X[lst2], y, scoring=my_scorer6, cv=cv, n_jobs=-1)\n",
        "    scores11 = cross_val_score(clf,  X[lst2], y, scoring=my_scorer7, cv=cv, n_jobs=-1)\n",
        "    # report performance\n",
        "    print('Accuracy:',scores1)\n",
        "    print('moy_accuracy: %f' % mean(scores1))\n",
        "    print(\"-------------------------------------------------\")\n",
        "    print('sensibilité :',scores2)\n",
        "    print('moy_sensibilité: %f' % mean(scores2))\n",
        "    print(\"-------------------------------------------------\")\n",
        "    print('spécificité :',scores3)\n",
        "    print('moy_spécificité: %f' % mean(scores3))\n",
        "    print(\"-------------------------------------------------\")\n",
        "    print('MCC :',scores4)\n",
        "    print('MCC: %f' % mean(scores4))\n",
        "    print(\"-------------------------------------------------\")\n",
        "    print('precision-po:',scores5)\n",
        "    print('moy_precision-po: %f' % mean(scores5))\n",
        "    print(\"-------------------------------------------------\")\n",
        "    print('precision-ne :',scores6)\n",
        "    print('moy_precision-ne: %f' % mean(scores6))\n",
        "    print(\"-------------------------------------------------\")\n",
        "    print('AUC :',scores7)\n",
        "    print('moy_AUC: %f' % mean(scores7))\n",
        "    print(\"-------------------------------------------------\")\n",
        "    print('VN :',scores8)\n",
        "    print('VP :',scores9)\n",
        "    print('FP :',scores10)\n",
        "    print('FN :',scores11)\n",
        "    print(\"-------------------------------------------------\")\n",
        "    print(\"-------------------------------------------------\")"
      ],
      "metadata": {
        "colab": {
          "base_uri": "https://localhost:8080/"
        },
        "id": "SGVmOOd85tR0",
        "outputId": "ef2a40b7-98b3-4db4-c8cd-8443b096e6ee"
      },
      "execution_count": 10,
      "outputs": [
        {
          "output_type": "stream",
          "name": "stdout",
          "text": [
            "Random_subspace\n",
            "Accuracy: [0.90196078 0.84313725 0.82352941 0.84313725 0.84      ]\n",
            "moy_accuracy: 0.850353\n",
            "-------------------------------------------------\n",
            "sensibilité : [0.87096774 0.90909091 0.76666667 0.85       0.875     ]\n",
            "moy_sensibilité: 0.854345\n",
            "-------------------------------------------------\n",
            "spécificité : [0.95       0.79310345 0.9047619  0.83870968 0.80769231]\n",
            "moy_spécificité: 0.858853\n",
            "-------------------------------------------------\n",
            "MCC : [0.80552496 0.69568237 0.6610182  0.67892483 0.68269231]\n",
            "MCC: 0.704769\n",
            "-------------------------------------------------\n",
            "precision-po: [0.96428571 0.76923077 0.92       0.77272727 0.80769231]\n",
            "moy_precision-po: 0.846787\n",
            "-------------------------------------------------\n",
            "precision-ne : [0.82608696 0.92       0.73076923 0.89655172 0.875     ]\n",
            "moy_precision-ne: 0.849682\n",
            "-------------------------------------------------\n",
            "AUC : [0.92096774 0.89811912 0.83730159 0.88064516 0.83253205]\n",
            "moy_AUC: 0.873913\n",
            "-------------------------------------------------\n",
            "VN : [19 23 19 26 21]\n",
            "VP : [27 20 23 17 21]\n",
            "FP : [1 6 2 5 5]\n",
            "FN : [4 2 7 3 3]\n",
            "-------------------------------------------------\n",
            "-------------------------------------------------\n"
          ]
        }
      ]
    },
    {
      "cell_type": "code",
      "source": [
        "pip install mlxtend  "
      ],
      "metadata": {
        "colab": {
          "base_uri": "https://localhost:8080/"
        },
        "id": "p6CbcmYR6GoW",
        "outputId": "0546c800-1e3d-411b-ee58-e98c01bf1f7d"
      },
      "execution_count": 16,
      "outputs": [
        {
          "output_type": "stream",
          "name": "stdout",
          "text": [
            "Looking in indexes: https://pypi.org/simple, https://us-python.pkg.dev/colab-wheels/public/simple/\n",
            "Requirement already satisfied: mlxtend in /usr/local/lib/python3.8/dist-packages (0.14.0)\n",
            "Requirement already satisfied: scikit-learn>=0.18 in /usr/local/lib/python3.8/dist-packages (from mlxtend) (1.0.2)\n",
            "Requirement already satisfied: numpy>=1.10.4 in /usr/local/lib/python3.8/dist-packages (from mlxtend) (1.21.6)\n",
            "Requirement already satisfied: matplotlib>=1.5.1 in /usr/local/lib/python3.8/dist-packages (from mlxtend) (3.2.2)\n",
            "Requirement already satisfied: setuptools in /usr/local/lib/python3.8/dist-packages (from mlxtend) (57.4.0)\n",
            "Requirement already satisfied: pandas>=0.17.1 in /usr/local/lib/python3.8/dist-packages (from mlxtend) (1.3.5)\n",
            "Requirement already satisfied: scipy>=0.17 in /usr/local/lib/python3.8/dist-packages (from mlxtend) (1.7.3)\n",
            "Requirement already satisfied: kiwisolver>=1.0.1 in /usr/local/lib/python3.8/dist-packages (from matplotlib>=1.5.1->mlxtend) (1.4.4)\n",
            "Requirement already satisfied: pyparsing!=2.0.4,!=2.1.2,!=2.1.6,>=2.0.1 in /usr/local/lib/python3.8/dist-packages (from matplotlib>=1.5.1->mlxtend) (3.0.9)\n",
            "Requirement already satisfied: python-dateutil>=2.1 in /usr/local/lib/python3.8/dist-packages (from matplotlib>=1.5.1->mlxtend) (2.8.2)\n",
            "Requirement already satisfied: cycler>=0.10 in /usr/local/lib/python3.8/dist-packages (from matplotlib>=1.5.1->mlxtend) (0.11.0)\n",
            "Requirement already satisfied: pytz>=2017.3 in /usr/local/lib/python3.8/dist-packages (from pandas>=0.17.1->mlxtend) (2022.7)\n",
            "Requirement already satisfied: joblib>=0.11 in /usr/local/lib/python3.8/dist-packages (from scikit-learn>=0.18->mlxtend) (1.2.0)\n",
            "Requirement already satisfied: threadpoolctl>=2.0.0 in /usr/local/lib/python3.8/dist-packages (from scikit-learn>=0.18->mlxtend) (3.1.0)\n",
            "Requirement already satisfied: six>=1.5 in /usr/local/lib/python3.8/dist-packages (from python-dateutil>=2.1->matplotlib>=1.5.1->mlxtend) (1.15.0)\n"
          ]
        }
      ]
    },
    {
      "cell_type": "code",
      "source": [
        "pip install mlxtend --upgrade --no-deps"
      ],
      "metadata": {
        "colab": {
          "base_uri": "https://localhost:8080/",
          "height": 305
        },
        "id": "PYtobYB463ao",
        "outputId": "667273fd-9e78-4814-c725-5c7244594f59"
      },
      "execution_count": 17,
      "outputs": [
        {
          "output_type": "stream",
          "name": "stdout",
          "text": [
            "Looking in indexes: https://pypi.org/simple, https://us-python.pkg.dev/colab-wheels/public/simple/\n",
            "Requirement already satisfied: mlxtend in /usr/local/lib/python3.8/dist-packages (0.14.0)\n",
            "Collecting mlxtend\n",
            "  Downloading mlxtend-0.21.0-py2.py3-none-any.whl (1.3 MB)\n",
            "\u001b[2K     \u001b[90m━━━━━━━━━━━━━━━━━━━━━━━━━━━━━━━━━━━━━━━━\u001b[0m \u001b[32m1.3/1.3 MB\u001b[0m \u001b[31m26.6 MB/s\u001b[0m eta \u001b[36m0:00:00\u001b[0m\n",
            "\u001b[?25hInstalling collected packages: mlxtend\n",
            "  Attempting uninstall: mlxtend\n",
            "    Found existing installation: mlxtend 0.14.0\n",
            "    Uninstalling mlxtend-0.14.0:\n",
            "      Successfully uninstalled mlxtend-0.14.0\n",
            "Successfully installed mlxtend-0.21.0\n"
          ]
        },
        {
          "output_type": "display_data",
          "data": {
            "application/vnd.colab-display-data+json": {
              "pip_warning": {
                "packages": [
                  "mlxtend"
                ]
              }
            }
          },
          "metadata": {}
        }
      ]
    },
    {
      "cell_type": "code",
      "source": [
        "from mlxtend.classifier import EnsembleVoteClassifier"
      ],
      "metadata": {
        "id": "7exSBk8o6EfZ"
      },
      "execution_count": 18,
      "outputs": []
    },
    {
      "cell_type": "code",
      "source": [
        "from mlxtend.feature_selection import ColumnSelector\n",
        "from sklearn.pipeline import make_pipeline\n"
      ],
      "metadata": {
        "id": "tWPS1eL76FZ4"
      },
      "execution_count": 19,
      "outputs": []
    },
    {
      "cell_type": "code",
      "source": [
        "eclf = EnsembleVoteClassifier(clfs=[pipe1, pipe2])\n",
        "\n",
        "eclf.fit(X, y)"
      ],
      "metadata": {
        "colab": {
          "base_uri": "https://localhost:8080/"
        },
        "id": "jiyi1KQy770Y",
        "outputId": "9c194b67-55d9-432d-d9d3-50e983b08d82"
      },
      "execution_count": 42,
      "outputs": [
        {
          "output_type": "execute_result",
          "data": {
            "text/plain": [
              "EnsembleVoteClassifier(clfs=[Pipeline(steps=[('columnselector',\n",
              "                                              ColumnSelector(cols=(0, 2, 5, 7,\n",
              "                                                                   8, 9, 10, 12,\n",
              "                                                                   13, 14, 15,\n",
              "                                                                   21, 24, 25,\n",
              "                                                                   26, 28, 30,\n",
              "                                                                   34, 36, 66,\n",
              "                                                                   83, 88, 106,\n",
              "                                                                   117, 128,\n",
              "                                                                   160, 177,\n",
              "                                                                   181))),\n",
              "                                             ('baggingclassifier',\n",
              "                                              BaggingClassifier(bootstrap=False,\n",
              "                                                                random_state=0))]),\n",
              "                             Pipeline(steps=[('columnselector',\n",
              "                                              ColumnSelector(cols=(0, 2, 5, 7,\n",
              "                                                                   8, 9, 10, 12,\n",
              "                                                                   13, 14, 15,\n",
              "                                                                   21, 24, 25,\n",
              "                                                                   26, 28, 30,\n",
              "                                                                   36, 66, 83,\n",
              "                                                                   88, 110, 117,\n",
              "                                                                   128, 160,\n",
              "                                                                   177, 181))),\n",
              "                                             ('baggingclassifier',\n",
              "                                              BaggingClassifier(bootstrap=False,\n",
              "                                                                random_state=0))])])"
            ]
          },
          "metadata": {},
          "execution_count": 42
        }
      ]
    },
    {
      "cell_type": "code",
      "source": [
        "eclf"
      ],
      "metadata": {
        "colab": {
          "base_uri": "https://localhost:8080/"
        },
        "id": "RBaLOWfw8AoL",
        "outputId": "9614a163-8581-4ac1-9970-c78c29f1bf37"
      },
      "execution_count": 43,
      "outputs": [
        {
          "output_type": "execute_result",
          "data": {
            "text/plain": [
              "EnsembleVoteClassifier(clfs=[Pipeline(steps=[('columnselector',\n",
              "                                              ColumnSelector(cols=(0, 2, 5, 7,\n",
              "                                                                   8, 9, 10, 12,\n",
              "                                                                   13, 14, 15,\n",
              "                                                                   21, 24, 25,\n",
              "                                                                   26, 28, 30,\n",
              "                                                                   34, 36, 66,\n",
              "                                                                   83, 88, 106,\n",
              "                                                                   117, 128,\n",
              "                                                                   160, 177,\n",
              "                                                                   181))),\n",
              "                                             ('baggingclassifier',\n",
              "                                              BaggingClassifier(bootstrap=False,\n",
              "                                                                random_state=0))]),\n",
              "                             Pipeline(steps=[('columnselector',\n",
              "                                              ColumnSelector(cols=(0, 2, 5, 7,\n",
              "                                                                   8, 9, 10, 12,\n",
              "                                                                   13, 14, 15,\n",
              "                                                                   21, 24, 25,\n",
              "                                                                   26, 28, 30,\n",
              "                                                                   36, 66, 83,\n",
              "                                                                   88, 110, 117,\n",
              "                                                                   128, 160,\n",
              "                                                                   177, 181))),\n",
              "                                             ('baggingclassifier',\n",
              "                                              BaggingClassifier(bootstrap=False,\n",
              "                                                                random_state=0))])])"
            ]
          },
          "metadata": {},
          "execution_count": 43
        }
      ]
    },
    {
      "cell_type": "code",
      "source": [
        "\n",
        "print('accuracy:', np.mean(y == eclf.predict(X)))"
      ],
      "metadata": {
        "colab": {
          "base_uri": "https://localhost:8080/"
        },
        "id": "0NnnP_f_8K3V",
        "outputId": "bee3d46c-0f32-4036-dd2e-ce5d11b57b0a"
      },
      "execution_count": 44,
      "outputs": [
        {
          "output_type": "stream",
          "name": "stdout",
          "text": [
            "accuracy: 0.9960629921259843\n"
          ]
        }
      ]
    },
    {
      "cell_type": "code",
      "source": [
        "from mlxtend.classifier import EnsembleVoteClassifier\n",
        "\n",
        "eclf2 = EnsembleVoteClassifier(clfs=[pipe1, pipe2], weights=[1,1])\n",
        "\n",
        "labels = ['M1','M2','ensemble']\n",
        "for clf, label in zip([pipe1,pipe2,eclf2], labels):\n",
        "\n",
        "    scores = cross_val_score(clf, X, y, cv=cv, scoring='accuracy')\n",
        "    print(\"Accuracy: %f (+/- %0.2f) [%s]\" \n",
        "          % (scores.mean(), scores.std(), label))"
      ],
      "metadata": {
        "colab": {
          "base_uri": "https://localhost:8080/"
        },
        "id": "ZYX-Q0yq9FWn",
        "outputId": "37ae3647-08f9-42b4-96c6-d6971f1194c6"
      },
      "execution_count": 48,
      "outputs": [
        {
          "output_type": "stream",
          "name": "stdout",
          "text": [
            "Accuracy: 0.850275 (+/- 0.03) [M1]\n",
            "Accuracy: 0.850353 (+/- 0.03) [M2]\n",
            "Accuracy: 0.854275 (+/- 0.03) [ensemble]\n"
          ]
        }
      ]
    },
    {
      "cell_type": "code",
      "source": [
        "T=X.columns"
      ],
      "metadata": {
        "id": "CoQIwm0H-sK6"
      },
      "execution_count": 30,
      "outputs": []
    },
    {
      "cell_type": "code",
      "source": [
        "T[0]"
      ],
      "metadata": {
        "colab": {
          "base_uri": "https://localhost:8080/",
          "height": 36
        },
        "id": "gqYJmn7u-uLJ",
        "outputId": "f475abce-0437-42f7-e569-3b3ad92dc7fb"
      },
      "execution_count": 31,
      "outputs": [
        {
          "output_type": "execute_result",
          "data": {
            "text/plain": [
              "'X_long'"
            ],
            "application/vnd.google.colaboratory.intrinsic+json": {
              "type": "string"
            }
          },
          "metadata": {},
          "execution_count": 31
        }
      ]
    },
    {
      "cell_type": "code",
      "source": [
        "len(T)"
      ],
      "metadata": {
        "colab": {
          "base_uri": "https://localhost:8080/"
        },
        "id": "WAeG6_O__L5c",
        "outputId": "704d4dc3-69d1-40dd-caee-32568aee0551"
      },
      "execution_count": 32,
      "outputs": [
        {
          "output_type": "execute_result",
          "data": {
            "text/plain": [
              "225"
            ]
          },
          "metadata": {},
          "execution_count": 32
        }
      ]
    },
    {
      "cell_type": "code",
      "source": [
        "indice_list=[]\n",
        "\n",
        "for i in lst :\n",
        "    for p in range(len(T)) :\n",
        "      if i == T[p]:\n",
        "        indice_list.append(p)"
      ],
      "metadata": {
        "id": "785Ib5fW-vmB"
      },
      "execution_count": 36,
      "outputs": []
    },
    {
      "cell_type": "code",
      "source": [
        "def indice (lst,X):\n",
        "  indice_list=[]\n",
        "  T=X.columns\n",
        "  for i in lst :\n",
        "    for p in range(len(T)) :\n",
        "      if i == T[p]:\n",
        "        indice_list.append(p)\n",
        "  return indice_list\n",
        "\n"
      ],
      "metadata": {
        "id": "-bJQJGEn_n9Z"
      },
      "execution_count": 51,
      "outputs": []
    },
    {
      "cell_type": "code",
      "source": [
        "indice(lst1,X)"
      ],
      "metadata": {
        "colab": {
          "base_uri": "https://localhost:8080/"
        },
        "id": "RuToGrTlAKj3",
        "outputId": "ee234ee4-f4b8-4842-eeed-5aaa118e6e4a"
      },
      "execution_count": 52,
      "outputs": [
        {
          "output_type": "execute_result",
          "data": {
            "text/plain": [
              "[0,\n",
              " 2,\n",
              " 5,\n",
              " 7,\n",
              " 8,\n",
              " 9,\n",
              " 10,\n",
              " 12,\n",
              " 13,\n",
              " 14,\n",
              " 15,\n",
              " 21,\n",
              " 24,\n",
              " 25,\n",
              " 26,\n",
              " 28,\n",
              " 30,\n",
              " 34,\n",
              " 36,\n",
              " 66,\n",
              " 83,\n",
              " 88,\n",
              " 106,\n",
              " 117,\n",
              " 128,\n",
              " 160,\n",
              " 177,\n",
              " 181]"
            ]
          },
          "metadata": {},
          "execution_count": 52
        }
      ]
    },
    {
      "cell_type": "code",
      "source": [
        "indice2=indice(lst2,X)"
      ],
      "metadata": {
        "id": "eampA7EOAVXC"
      },
      "execution_count": 54,
      "outputs": []
    },
    {
      "cell_type": "code",
      "source": [
        "indice2"
      ],
      "metadata": {
        "colab": {
          "base_uri": "https://localhost:8080/"
        },
        "id": "a5dydeW-BMV8",
        "outputId": "48204d79-2163-454d-a3a1-9f57f9904674"
      },
      "execution_count": 55,
      "outputs": [
        {
          "output_type": "execute_result",
          "data": {
            "text/plain": [
              "[0,\n",
              " 2,\n",
              " 5,\n",
              " 7,\n",
              " 8,\n",
              " 9,\n",
              " 10,\n",
              " 12,\n",
              " 13,\n",
              " 14,\n",
              " 15,\n",
              " 21,\n",
              " 24,\n",
              " 25,\n",
              " 26,\n",
              " 28,\n",
              " 30,\n",
              " 36,\n",
              " 66,\n",
              " 83,\n",
              " 88,\n",
              " 110,\n",
              " 117,\n",
              " 128,\n",
              " 160,\n",
              " 177,\n",
              " 181]"
            ]
          },
          "metadata": {},
          "execution_count": 55
        }
      ]
    },
    {
      "cell_type": "markdown",
      "source": [
        "## Code :"
      ],
      "metadata": {
        "id": "dy0nbwqtBbLE"
      }
    },
    {
      "cell_type": "code",
      "source": [
        "lst1=['X_long', 'Bovins', 'Ovins', 'Coniferes', 'ZoneAride', 'ZonePel',\n",
        "       'Lesfeuillus', 'Autres', 'Arbrisseau', 'Pl_herb', 'VegCul', 'Amp3_IRM',\n",
        "       'VarT_tri_IRM', 'VarT_Cy_IRM', 'Min_IRM', 'Ph1_IRM', 'Ph3_IRM',\n",
        "       'Amp2_TempJ', 'VarT_ann_TempJ', 'VarT_tri_NDVI', 'Max_EVI', 'Ret_eau',\n",
        "       'Geom_maj', 'Pente_Moy', 'IR_sd', 'Prec_Aout', 'Tmax_Janv', 'Tmax_Mai']\n",
        "lst2=['X_long', 'Bovins', 'Ovins', 'Coniferes', 'ZoneAride', 'ZonePel',\n",
        "       'Lesfeuillus', 'Autres', 'Arbrisseau', 'Pl_herb', 'VegCul', 'Amp3_IRM',\n",
        "       'VarT_tri_IRM', 'VarT_Cy_IRM', 'Min_IRM', 'Ph1_IRM', 'Ph3_IRM',\n",
        "       'VarT_ann_TempJ', 'VarT_tri_NDVI', 'Max_EVI', 'Ret_eau',\n",
        "       'Rugosite_Moyenne', 'Pente_Moy', 'IR_sd', 'Prec_Aout', 'Tmax_Janv',\n",
        "       'Tmax_Mai']\n",
        "lst3=['X_long', 'Bovins', 'Ovins', 'Coniferes', 'ZoneAride', 'ZonePel',\n",
        "       'Lesfeuillus', 'Autres', 'Arbrisseau', 'Pl_herb', 'VegCul', 'Amp3_IRM',\n",
        "       'VarT_tri_IRM', 'VarT_Cy_IRM', 'Min_IRM', 'Ph1_IRM', 'Ph3_IRM',\n",
        "       'VarT_ann_TempJ', 'VarT_tri_NDVI', 'Max_EVI', 'Ret_eau', 'Pente_Min',\n",
        "       'Pente_Moy', 'IR_sd', 'Prec_Aout', 'Tmax_Janv', 'Tmax_Mai']\n",
        "lst4=['X_long', 'Bovins', 'Ovins', 'Coniferes', 'ZoneAride', 'ZonePel',\n",
        "       'Lesfeuillus', 'Autres', 'Arbrisseau', 'Pl_herb', 'VegCul', 'Amp3_IRM',\n",
        "       'VarT_tri_IRM', 'VarT_Cy_IRM', 'Min_IRM', 'Ph1_IRM', 'Ph3_IRM',\n",
        "       'VarT_ann_TempJ', 'VarT_tri_NDVI', 'Max_EVI', 'Ret_eau', 'Rugosite_Moy',\n",
        "       'Pente_Moy', 'IR_sd', 'Prec_Aout', 'Tmax_Janv', 'Tmax_Mai']\n",
        "lst5=['X_long', 'Bovins', 'Ovins', 'Coniferes', 'ZoneAride', 'ZonePel',\n",
        "       'Lesfeuillus', 'Autres', 'Arbrisseau', 'Pl_herb', 'VegCul', 'Amp3_IRM',\n",
        "       'VarT_tri_IRM', 'VarT_Cy_IRM', 'Min_IRM', 'Ph1_IRM', 'Ph3_IRM',\n",
        "       'VarT_ann_TempJ', 'VarT_tri_NDVI', 'Max_EVI', 'Ret_eau', 'Pente_Moy',\n",
        "       'IR_Med', 'IR_sd', 'Prec_Aout', 'Tmax_Janv', 'Tmax_Mai']\n",
        "lst6=['X_long', 'Bovins', 'Ovins', 'Coniferes', 'ZoneAride', 'ZonePel',\n",
        "       'Lesfeuillus', 'Autres', 'Arbrisseau', 'Pl_herb', 'VegCul', 'Amp3_IRM',\n",
        "       'VarT_tri_IRM', 'VarT_Cy_IRM', 'Min_IRM', 'Ph1_IRM', 'Ph3_IRM',\n",
        "       'VarT_ann_TempJ', 'VarT_tri_NDVI', 'Max_EVI', 'Ret_eau', 'Pente_Moy',\n",
        "       'IR_Moy', 'IR_sd', 'Prec_Aout', 'Tmax_Janv', 'Tmax_Mai']\n",
        "lst7=['X_long', 'Bovins', 'Ovins', 'Coniferes', 'ZoneAride', 'ZonePel',\n",
        "       'Lesfeuillus', 'Autres', 'Arbrisseau', 'Pl_herb', 'VegCul', 'Amp3_IRM',\n",
        "       'VarT_tri_IRM', 'VarT_Cy_IRM', 'Min_IRM', 'Ph1_IRM', 'Ph3_IRM',\n",
        "       'VarT_ann_TempJ', 'VarT_tri_NDVI', 'Max_EVI', 'Ret_eau', 'Pente_Moy',\n",
        "       'IR_sd', 'Prec_Janv', 'Prec_Aout', 'Tmax_Janv', 'Tmax_Mai']\n",
        "lst8=['X_long', 'Bovins', 'Ovins', 'Coniferes', 'ZoneAride', 'ZonePel',\n",
        "       'Lesfeuillus', 'Autres', 'Arbrisseau', 'Pl_herb', 'VegCul', 'Amp3_IRM',\n",
        "       'VarT_tri_IRM', 'VarT_Cy_IRM', 'Min_IRM', 'Ph1_IRM', 'Ph3_IRM',\n",
        "       'VarT_ann_TempJ', 'VarT_tri_NDVI', 'Max_EVI', 'Ret_eau', 'Pente_Moy',\n",
        "       'IR_sd', 'Prec_Mai', 'Prec_Aout', 'Tmax_Janv', 'Tmax_Mai']\n",
        "lst9=['X_long', 'Bovins', 'Caprins', 'Ovins', 'ZoneAride', 'Autres', 'VegCul',\n",
        "       'Amp3_IRM', 'VarT_Cy_IRM', 'Min_IRM', 'Ph1_IRM', 'Ph3_IRM',\n",
        "       'VarT_ann_TempJ', 'Var_TempN', 'VarT_tri_NDVI', 'Max_EVI', 'Pente_Moy',\n",
        "       'IR_Moy', 'IR_sd', 'Bio_Pre_Saison', 'Prec_Aout', 'Tmax_Janv',\n",
        "       'Tmax_Mai']\n",
        "lst10=['X_long', 'Bovins', 'Caprins', 'Ovins', 'Autres', 'VegCul', 'Amp3_IRM',\n",
        "       'VarT_ann_IRM', 'VarT_Cy_IRM', 'Min_IRM', 'Ph1_IRM', 'Ph3_IRM',\n",
        "       'VarT_ann_TempJ', 'Var_TempN', 'VarT_tri_NDVI', 'Max_EVI', 'Pente_Moy',\n",
        "       'IR_Moy', 'IR_sd', 'Bio_Pre_Saison', 'Prec_Aout', 'Tmax_Janv',\n",
        "       'Tmax_Mai']"
      ],
      "metadata": {
        "id": "9nzBA5_JBe2J"
      },
      "execution_count": 57,
      "outputs": []
    },
    {
      "cell_type": "code",
      "source": [
        "indice1=indice(lst1,X)\n",
        "print(indice1)\n",
        "print('----------------------')\n",
        "indice2=indice(lst2,X)\n",
        "print(indice2)\n",
        "print('----------------------')\n",
        "indice3=indice(lst3,X)\n",
        "print(indice3)\n",
        "print('----------------------')\n",
        "indice4=indice(lst4,X)\n",
        "print(indice4)\n",
        "print('----------------------')\n",
        "indice5=indice(lst5,X)\n",
        "print(indice5)\n",
        "print('----------------------')\n",
        "indice6=indice(lst6,X)\n",
        "print(indice6)\n",
        "print('----------------------')\n",
        "indice7=indice(lst7,X)\n",
        "print(indice7)\n",
        "print('----------------------')\n",
        "indice8=indice(lst8,X)\n",
        "print(indice8)\n",
        "print('----------------------')\n",
        "indice9=indice(lst9,X)\n",
        "print(indice9)\n",
        "print('----------------------')\n",
        "indice10=indice(lst10,X)\n",
        "print(indice10)\n",
        "print('----------------------')"
      ],
      "metadata": {
        "colab": {
          "base_uri": "https://localhost:8080/"
        },
        "id": "ViceXKv-CVbB",
        "outputId": "8a97e572-edb1-4edc-dc3c-93326a7d2127"
      },
      "execution_count": 67,
      "outputs": [
        {
          "output_type": "stream",
          "name": "stdout",
          "text": [
            "[0, 2, 5, 7, 8, 9, 10, 12, 13, 14, 15, 21, 24, 25, 26, 28, 30, 34, 36, 66, 83, 88, 106, 117, 128, 160, 177, 181]\n",
            "----------------------\n",
            "[0, 2, 5, 7, 8, 9, 10, 12, 13, 14, 15, 21, 24, 25, 26, 28, 30, 36, 66, 83, 88, 110, 117, 128, 160, 177, 181]\n",
            "----------------------\n",
            "[0, 2, 5, 7, 8, 9, 10, 12, 13, 14, 15, 21, 24, 25, 26, 28, 30, 36, 66, 83, 88, 116, 117, 128, 160, 177, 181]\n",
            "----------------------\n",
            "[0, 2, 5, 7, 8, 9, 10, 12, 13, 14, 15, 21, 24, 25, 26, 28, 30, 36, 66, 83, 88, 112, 117, 128, 160, 177, 181]\n",
            "----------------------\n",
            "[0, 2, 5, 7, 8, 9, 10, 12, 13, 14, 15, 21, 24, 25, 26, 28, 30, 36, 66, 83, 88, 117, 125, 128, 160, 177, 181]\n",
            "----------------------\n",
            "[0, 2, 5, 7, 8, 9, 10, 12, 13, 14, 15, 21, 24, 25, 26, 28, 30, 36, 66, 83, 88, 117, 127, 128, 160, 177, 181]\n",
            "----------------------\n",
            "[0, 2, 5, 7, 8, 9, 10, 12, 13, 14, 15, 21, 24, 25, 26, 28, 30, 36, 66, 83, 88, 117, 128, 153, 160, 177, 181]\n",
            "----------------------\n",
            "[0, 2, 5, 7, 8, 9, 10, 12, 13, 14, 15, 21, 24, 25, 26, 28, 30, 36, 66, 83, 88, 117, 128, 157, 160, 177, 181]\n",
            "----------------------\n",
            "[0, 2, 4, 5, 8, 12, 15, 21, 25, 26, 28, 30, 36, 59, 66, 83, 117, 127, 128, 148, 160, 177, 181]\n",
            "----------------------\n",
            "[0, 2, 4, 5, 12, 15, 21, 22, 25, 26, 28, 30, 36, 59, 66, 83, 117, 127, 128, 148, 160, 177, 181]\n",
            "----------------------\n"
          ]
        }
      ]
    },
    {
      "cell_type": "code",
      "source": [
        "pipe1 = make_pipeline(ColumnSelector(cols=(0, 2, 5, 7, 8, 9, 10, 12, 13, 14, 15, 21, 24, 25, 26, 28, 30, 34, 36, 66, 83, 88, 106, 117, 128, 160, 177, 181)),BaggingClassifier(bootstrap=False,random_state=0))\n",
        "pipe2 = make_pipeline(ColumnSelector(cols=(0, 2, 5, 7, 8, 9, 10, 12, 13, 14, 15, 21, 24, 25, 26, 28, 30, 36, 66, 83, 88, 110, 117, 128, 160, 177, 181)),BaggingClassifier(bootstrap=False,random_state=0))\n",
        "pipe3 = make_pipeline(ColumnSelector(cols=(0, 2, 5, 7, 8, 9, 10, 12, 13, 14, 15, 21, 24, 25, 26, 28, 30, 36, 66, 83, 88, 116, 117, 128, 160, 177, 181)),BaggingClassifier(bootstrap=False,random_state=0))\n",
        "pipe4 = make_pipeline(ColumnSelector(cols=(0, 2, 5, 7, 8, 9, 10, 12, 13, 14, 15, 21, 24, 25, 26, 28, 30, 36, 66, 83, 88, 112, 117, 128, 160, 177, 181)),BaggingClassifier(bootstrap=False,random_state=0))\n",
        "pipe5 = make_pipeline(ColumnSelector(cols=(0, 2, 5, 7, 8, 9, 10, 12, 13, 14, 15, 21, 24, 25, 26, 28, 30, 36, 66, 83, 88, 117, 125, 128, 160, 177, 181)),BaggingClassifier(bootstrap=False,random_state=0))\n",
        "pipe6 = make_pipeline(ColumnSelector(cols=(0, 2, 5, 7, 8, 9, 10, 12, 13, 14, 15, 21, 24, 25, 26, 28, 30, 36, 66, 83, 88, 117, 127, 128, 160, 177, 181)),BaggingClassifier(bootstrap=False,random_state=0))\n",
        "pipe7 = make_pipeline(ColumnSelector(cols=(0, 2, 5, 7, 8, 9, 10, 12, 13, 14, 15, 21, 24, 25, 26, 28, 30, 36, 66, 83, 88, 117, 128, 153, 160, 177, 181)),BaggingClassifier(bootstrap=False,random_state=0))\n",
        "pipe8 = make_pipeline(ColumnSelector(cols=(0, 2, 5, 7, 8, 9, 10, 12, 13, 14, 15, 21, 24, 25, 26, 28, 30, 36, 66, 83, 88, 117, 128, 157, 160, 177, 181)),BaggingClassifier(bootstrap=False,random_state=0))\n",
        "pipe9 = make_pipeline(ColumnSelector(cols=(0, 2, 4, 5, 8, 12, 15, 21, 25, 26, 28, 30, 36, 59, 66, 83, 117, 127, 128, 148, 160, 177, 181)),BaggingClassifier(bootstrap=False,random_state=0))\n",
        "pipe10 = make_pipeline(ColumnSelector(cols=(0, 2, 4, 5, 12, 15, 21, 22, 25, 26, 28, 30, 36, 59, 66, 83, 117, 127, 128, 148, 160, 177, 181)),BaggingClassifier(bootstrap=False,random_state=0))"
      ],
      "metadata": {
        "id": "Bj0CmmkL7FWu"
      },
      "execution_count": 86,
      "outputs": []
    },
    {
      "cell_type": "code",
      "source": [
        "from mlxtend.classifier import EnsembleVoteClassifier\n",
        "\n",
        "eclf = EnsembleVoteClassifier(clfs=[pipe1, pipe2, pipe3, pipe4, pipe5, pipe6, pipe7, pipe8,pipe9,pipe10],voting='hard')\n",
        "\n",
        "labels = ['M1','M2','M3','M4','M5','M6','M7','M8','M9','M10','ensemble']\n",
        "for clf, label in zip([pipe1, pipe2, pipe3, pipe4, pipe5, pipe6, pipe7, pipe8,pipe9,pipe10,eclf], labels):\n",
        "\n",
        "    scores = cross_val_score(clf, X, y, cv=cv, scoring='accuracy')\n",
        "    print(\"Accuracy: %f (+/- %0.2f) [%s]\" \n",
        "          % (scores.mean(), scores.std(), label))"
      ],
      "metadata": {
        "colab": {
          "base_uri": "https://localhost:8080/"
        },
        "outputId": "097f4be2-9734-42fb-de0e-264cf158fed5",
        "id": "cMVb9tgcD_n_"
      },
      "execution_count": 73,
      "outputs": [
        {
          "output_type": "stream",
          "name": "stdout",
          "text": [
            "Accuracy: 0.850275 (+/- 0.03) [M1]\n",
            "Accuracy: 0.850353 (+/- 0.03) [M2]\n",
            "Accuracy: 0.850353 (+/- 0.03) [M3]\n",
            "Accuracy: 0.850353 (+/- 0.03) [M4]\n",
            "Accuracy: 0.854275 (+/- 0.03) [M5]\n",
            "Accuracy: 0.850353 (+/- 0.03) [M6]\n",
            "Accuracy: 0.854275 (+/- 0.03) [M7]\n",
            "Accuracy: 0.850353 (+/- 0.03) [M8]\n",
            "Accuracy: 0.850667 (+/- 0.05) [M9]\n",
            "Accuracy: 0.854510 (+/- 0.03) [M10]\n",
            "Accuracy: 0.850353 (+/- 0.03) [ensemble]\n"
          ]
        }
      ]
    },
    {
      "cell_type": "code",
      "source": [
        "eclf = EnsembleVoteClassifier(clfs=[pipe1, pipe2, pipe3, pipe4, pipe5, pipe6, pipe7, pipe8,pipe9,pipe10],voting='soft')\n",
        "\n",
        "labels = ['M1','M2','M3','M4','M5','M6','M7','M8','M9','M10','ensemble']\n",
        "for clf, label in zip([pipe1, pipe2, pipe3, pipe4, pipe5, pipe6, pipe7, pipe8,pipe9,pipe10,eclf], labels):\n",
        "\n",
        "    scores = cross_val_score(clf, X, y, cv=cv, scoring='accuracy')\n",
        "    print(\"Accuracy: %f [%s]\"\n",
        "          % (scores.mean(), label))"
      ],
      "metadata": {
        "colab": {
          "base_uri": "https://localhost:8080/"
        },
        "id": "XjDFapguE1wb",
        "outputId": "0eade20b-ee4f-4a2b-9c3c-8822408b5a6b"
      },
      "execution_count": 78,
      "outputs": [
        {
          "output_type": "stream",
          "name": "stdout",
          "text": [
            "Accuracy: 0.850275 [M1]\n",
            "Accuracy: 0.850353 [M2]\n",
            "Accuracy: 0.850353 [M3]\n",
            "Accuracy: 0.850353 [M4]\n",
            "Accuracy: 0.854275 [M5]\n",
            "Accuracy: 0.850353 [M6]\n",
            "Accuracy: 0.854275 [M7]\n",
            "Accuracy: 0.850353 [M8]\n",
            "Accuracy: 0.850667 [M9]\n",
            "Accuracy: 0.854510 [M10]\n",
            "Accuracy: 0.846353 [ensemble]\n"
          ]
        }
      ]
    },
    {
      "cell_type": "code",
      "source": [
        "eclf = EnsembleVoteClassifier(clfs=[pipe1, pipe3, pipe5, pipe7, pipe9],voting='soft')\n",
        "\n",
        "labels = ['M1','M3','M5','M7','M9','ensemble']\n",
        "for clf, label in zip([pipe1, pipe3, pipe5, pipe7, pipe9,eclf], labels):\n",
        "\n",
        "    scores = cross_val_score(clf, X, y, cv=cv, scoring='accuracy')\n",
        "    print(\"Accuracy: %f [%s]\"\n",
        "          % (scores.mean(), label))"
      ],
      "metadata": {
        "colab": {
          "base_uri": "https://localhost:8080/"
        },
        "id": "reYveuMOF-z-",
        "outputId": "5c2c2d61-ce76-415b-b0e6-4768306aa837"
      },
      "execution_count": 81,
      "outputs": [
        {
          "output_type": "stream",
          "name": "stdout",
          "text": [
            "Accuracy: 0.850275 [M1]\n",
            "Accuracy: 0.850353 [M3]\n",
            "Accuracy: 0.854275 [M5]\n",
            "Accuracy: 0.854275 [M7]\n",
            "Accuracy: 0.850667 [M9]\n",
            "Accuracy: 0.838510 [ensemble]\n"
          ]
        }
      ]
    },
    {
      "cell_type": "code",
      "source": [
        "lstT=['X_long', 'VegInond', 'Min_IRM','Var_IRM' ,'VarT_ann_TempJ','VarT_tri_TempJ','VarT_tri_NDVI','IR_sd','RV_Med','RV_Min','Bio_Tint','Prec_Avril','Prec_Juin','Prec_Juill','Prec_Aout','Prec_Dec','Tmax_Janv','Tmax_Avril','Tmax_Sept','Tmin_Juin','Vap_Mai','Vent_Juin'] "
      ],
      "metadata": {
        "id": "m0bUEzgcGbC3"
      },
      "execution_count": 82,
      "outputs": []
    },
    {
      "cell_type": "code",
      "source": [
        "indice_T=indice(lstT,X)\n",
        "print(indice_T)"
      ],
      "metadata": {
        "colab": {
          "base_uri": "https://localhost:8080/"
        },
        "id": "VbXerNLVHUXl",
        "outputId": "29dce295-67ef-498a-f537-d4a497834210"
      },
      "execution_count": 84,
      "outputs": [
        {
          "output_type": "stream",
          "name": "stdout",
          "text": [
            "[0, 16, 26, 31, 36, 38, 66, 128, 130, 131, 140, 156, 158, 159, 160, 164, 177, 180, 185, 194, 205, 218]\n"
          ]
        }
      ]
    },
    {
      "cell_type": "code",
      "source": [
        "pipeT = make_pipeline(ColumnSelector(cols=(0, 16, 26, 31, 36, 38, 66, 128, 130, 131, 140, 156, 158, 159, 160, 164, 177, 180, 185, 194, 205, 218)),GradientBoostingClassifier(random_state=0))"
      ],
      "metadata": {
        "id": "XZT9p56OHhOn"
      },
      "execution_count": 90,
      "outputs": []
    },
    {
      "cell_type": "code",
      "source": [
        "eclf = EnsembleVoteClassifier(clfs=[pipe1, pipe2, pipe3, pipe4, pipe5, pipe6, pipe7, pipe8,pipe9,pipe10,pipeT],voting='hard')\n",
        "\n",
        "labels = ['M1','M2','M3','M4','M5','M6','M7','M8','M9','M10','MT','ensemble']\n",
        "for clf, label in zip([pipe1, pipe2, pipe3, pipe4, pipe5, pipe6, pipe7, pipe8,pipe9,pipe10,pipeT,eclf], labels):\n",
        "\n",
        "    scores = cross_val_score(clf, X, y, cv=cv, scoring='accuracy')\n",
        "    print(\"Accuracy: %f [%s]\"\n",
        "          % (scores.mean(), label))"
      ],
      "metadata": {
        "colab": {
          "base_uri": "https://localhost:8080/"
        },
        "outputId": "c8eab2b2-a090-4741-bfa0-a8a79832eed5",
        "id": "odc3kJjPHzz3"
      },
      "execution_count": 91,
      "outputs": [
        {
          "output_type": "stream",
          "name": "stdout",
          "text": [
            "Accuracy: 0.850275 [M1]\n",
            "Accuracy: 0.850353 [M2]\n",
            "Accuracy: 0.850353 [M3]\n",
            "Accuracy: 0.850353 [M4]\n",
            "Accuracy: 0.854275 [M5]\n",
            "Accuracy: 0.850353 [M6]\n",
            "Accuracy: 0.854275 [M7]\n",
            "Accuracy: 0.850353 [M8]\n",
            "Accuracy: 0.850667 [M9]\n",
            "Accuracy: 0.854510 [M10]\n",
            "Accuracy: 0.885804 [MT]\n",
            "Accuracy: 0.850353 [ensemble]\n"
          ]
        }
      ]
    },
    {
      "cell_type": "code",
      "source": [
        "eclf = EnsembleVoteClassifier(clfs=[pipe10,pipeT],voting='hard')\n",
        "\n",
        "labels = ['M10','MT','ensemble']\n",
        "for clf, label in zip([pipe10,pipeT,eclf], labels):\n",
        "\n",
        "    scores = cross_val_score(clf, X, y, cv=cv, scoring='accuracy')\n",
        "    print(\"Accuracy: %f [%s]\"\n",
        "          % (scores.mean(), label))"
      ],
      "metadata": {
        "colab": {
          "base_uri": "https://localhost:8080/"
        },
        "outputId": "c4951293-f5df-419c-ead9-fce274050f1d",
        "id": "AHjiaGiGIMBl"
      },
      "execution_count": 94,
      "outputs": [
        {
          "output_type": "stream",
          "name": "stdout",
          "text": [
            "Accuracy: 0.854510 [M10]\n",
            "Accuracy: 0.885804 [MT]\n",
            "Accuracy: 0.866353 [ensemble]\n"
          ]
        }
      ]
    }
  ]
}